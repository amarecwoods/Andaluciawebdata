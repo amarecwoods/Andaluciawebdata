{
 "cells": [
  {
   "cell_type": "code",
   "execution_count": 51,
   "metadata": {},
   "outputs": [],
   "source": [
    "import pandas as pd\n",
    "import seaborn as sns \n",
    "import matplotlib.pyplot as mpt"
   ]
  },
  {
   "cell_type": "code",
   "execution_count": 52,
   "metadata": {},
   "outputs": [],
   "source": [
    "df = pd.read_csv(\"/Volumes/Data SSD/Kaggle/Unclean/webs_andalucia.csv\", encoding='UTF-8')\n"
   ]
  },
  {
   "cell_type": "code",
   "execution_count": 53,
   "metadata": {},
   "outputs": [
    {
     "data": {
      "text/html": [
       "<div>\n",
       "<style scoped>\n",
       "    .dataframe tbody tr th:only-of-type {\n",
       "        vertical-align: middle;\n",
       "    }\n",
       "\n",
       "    .dataframe tbody tr th {\n",
       "        vertical-align: top;\n",
       "    }\n",
       "\n",
       "    .dataframe thead th {\n",
       "        text-align: right;\n",
       "    }\n",
       "</style>\n",
       "<table border=\"1\" class=\"dataframe\">\n",
       "  <thead>\n",
       "    <tr style=\"text-align: right;\">\n",
       "      <th></th>\n",
       "      <th>Título</th>\n",
       "      <th>Semilla</th>\n",
       "      <th>Estado</th>\n",
       "      <th>Frecuencia</th>\n",
       "      <th>Tamaño</th>\n",
       "      <th>Palabras_clave</th>\n",
       "      <th>Materia</th>\n",
       "    </tr>\n",
       "  </thead>\n",
       "  <tbody>\n",
       "    <tr>\n",
       "      <th>0</th>\n",
       "      <td>Ocho huellas (Los Palacios y Villafranca, Sevi...</td>\n",
       "      <td>http://8huellas.com</td>\n",
       "      <td>Inactiva</td>\n",
       "      <td>Anual</td>\n",
       "      <td>Mediano</td>\n",
       "      <td>Cerveza / Industria de las bebidas / Sevilla</td>\n",
       "      <td>Bebidas</td>\n",
       "    </tr>\n",
       "    <tr>\n",
       "      <th>1</th>\n",
       "      <td>Asociación Andaluza de Medicina y Seguridad en...</td>\n",
       "      <td>http://aamst.es</td>\n",
       "      <td>Activa</td>\n",
       "      <td>Semestral</td>\n",
       "      <td>Pequeno</td>\n",
       "      <td>Medicina del trabajo / Asociaciones / Andalucía</td>\n",
       "      <td>Medicina</td>\n",
       "    </tr>\n",
       "    <tr>\n",
       "      <th>2</th>\n",
       "      <td>Loaimes, Los (Cogollos Vega, Granada)</td>\n",
       "      <td>http://aceitedecogollos.com</td>\n",
       "      <td>Activa</td>\n",
       "      <td>Anual</td>\n",
       "      <td>Mediano</td>\n",
       "      <td>Aceite de oliva / Almazaras / Cooperativas / G...</td>\n",
       "      <td>Alimentaria</td>\n",
       "    </tr>\n",
       "    <tr>\n",
       "      <th>3</th>\n",
       "      <td>Asociación de Productores y Transformadores de...</td>\n",
       "      <td>http://aceitesdelponiente.com</td>\n",
       "      <td>Activa</td>\n",
       "      <td>Anual</td>\n",
       "      <td>Mediano</td>\n",
       "      <td>Aceite de oliva / Almazaras / Granada / Asocia...</td>\n",
       "      <td>Alimentaria</td>\n",
       "    </tr>\n",
       "    <tr>\n",
       "      <th>4</th>\n",
       "      <td>Aceites de Sierra de Yeguas (Sierra de Yeguas,...</td>\n",
       "      <td>http://aceitesierrayeguas.es</td>\n",
       "      <td>Activa</td>\n",
       "      <td>Anual</td>\n",
       "      <td>Mediano</td>\n",
       "      <td>Aceite de oliva / Almazaras / Cooperativas / M...</td>\n",
       "      <td>Alimentaria</td>\n",
       "    </tr>\n",
       "    <tr>\n",
       "      <th>5</th>\n",
       "      <td>Aceites Torres Patiño (Córdoba)</td>\n",
       "      <td>http://aceitestorrespatino.com</td>\n",
       "      <td>Activa</td>\n",
       "      <td>Anual</td>\n",
       "      <td>Mediano</td>\n",
       "      <td>Aceite de oliva / Almazaras / Córdoba</td>\n",
       "      <td>Alimentaria</td>\n",
       "    </tr>\n",
       "    <tr>\n",
       "      <th>6</th>\n",
       "      <td>Actualidad Almanzora</td>\n",
       "      <td>http://actualidadalmanzora.blogspot.com</td>\n",
       "      <td>Activa</td>\n",
       "      <td>Semanal</td>\n",
       "      <td>Pequeno</td>\n",
       "      <td>Medios de comunicación social / Periódicos ele...</td>\n",
       "      <td>Prensa</td>\n",
       "    </tr>\n",
       "    <tr>\n",
       "      <th>7</th>\n",
       "      <td>Agrupación de Cofradías de Lucena (Córdoba)</td>\n",
       "      <td>http://agrupaciondecofradiasdelucena.blogspot.com</td>\n",
       "      <td>Activa</td>\n",
       "      <td>Anual</td>\n",
       "      <td>Mediano</td>\n",
       "      <td>Religión / Semana Santa / Cofradías / Entidade...</td>\n",
       "      <td>Religión</td>\n",
       "    </tr>\n",
       "    <tr>\n",
       "      <th>8</th>\n",
       "      <td>Aguilar noticias.com</td>\n",
       "      <td>http://aguilarnoticias.com</td>\n",
       "      <td>Activa</td>\n",
       "      <td>Semanal</td>\n",
       "      <td>Pequeno</td>\n",
       "      <td>Medios de comunicación social / Periódicos ele...</td>\n",
       "      <td>Prensa</td>\n",
       "    </tr>\n",
       "    <tr>\n",
       "      <th>9</th>\n",
       "      <td>Al-Alba Teatro (Osuna, Sevilla)</td>\n",
       "      <td>http://alalbateatro.com</td>\n",
       "      <td>Activa</td>\n",
       "      <td>Semestral</td>\n",
       "      <td>Pequeno</td>\n",
       "      <td>Teatro / Compañías teatrales / Sevilla</td>\n",
       "      <td>Arte</td>\n",
       "    </tr>\n",
       "    <tr>\n",
       "      <th>10</th>\n",
       "      <td>Ciudadanos - Almería - (Cs - Almería)</td>\n",
       "      <td>http://almeria.ciudadanos-cs.org</td>\n",
       "      <td>Activa</td>\n",
       "      <td>Semestral</td>\n",
       "      <td>Pequeno</td>\n",
       "      <td>Política / Instituciones políticas / Partidos ...</td>\n",
       "      <td>Política</td>\n",
       "    </tr>\n",
       "    <tr>\n",
       "      <th>11</th>\n",
       "      <td>CEIP Álvarez Sotomayor (Cuevas de Almanzora, A...</td>\n",
       "      <td>http://alvarezsotomayor.blogspot.com</td>\n",
       "      <td>Activa</td>\n",
       "      <td>Semestral</td>\n",
       "      <td>Pequeno</td>\n",
       "      <td>Educación / Centros docentes / Almería</td>\n",
       "      <td>Educación</td>\n",
       "    </tr>\n",
       "    <tr>\n",
       "      <th>12</th>\n",
       "      <td>CEIP Al-Yussana (Lucena, Córdoba)</td>\n",
       "      <td>http://al-yussanabilingue.blogspot.com</td>\n",
       "      <td>Activa</td>\n",
       "      <td>Semestral</td>\n",
       "      <td>Pequeno</td>\n",
       "      <td>Educación / Centros docentes / Córdoba</td>\n",
       "      <td>Educación</td>\n",
       "    </tr>\n",
       "    <tr>\n",
       "      <th>13</th>\n",
       "      <td>Sociedad de Amigos del Real Jardín Botánico de...</td>\n",
       "      <td>http://amigosbotanicocordoba.es</td>\n",
       "      <td>Activa</td>\n",
       "      <td>Anual</td>\n",
       "      <td>Mediano</td>\n",
       "      <td>Plantas / Jardines botánicos / Asociaciones / ...</td>\n",
       "      <td>Botánica</td>\n",
       "    </tr>\n",
       "    <tr>\n",
       "      <th>14</th>\n",
       "      <td>Asociación Amigos del Lobo de Sierra Morena</td>\n",
       "      <td>http://amigosdellobodesierramorena.blogspot.com</td>\n",
       "      <td>Activa</td>\n",
       "      <td>Semestral</td>\n",
       "      <td>Pequeno</td>\n",
       "      <td>Animales / Lobos / Asociaciones / Córdoba</td>\n",
       "      <td>Zoología</td>\n",
       "    </tr>\n",
       "    <tr>\n",
       "      <th>15</th>\n",
       "      <td>Asociación Amigos del Teatro Ciudad de Marbell...</td>\n",
       "      <td>http://amigosdelteatromarbella.es</td>\n",
       "      <td>Activa</td>\n",
       "      <td>Semestral</td>\n",
       "      <td>Pequeno</td>\n",
       "      <td>Teatro / Asociaciones / Málaga</td>\n",
       "      <td>Arte</td>\n",
       "    </tr>\n",
       "    <tr>\n",
       "      <th>16</th>\n",
       "      <td>CEIP Antonia Santaolalla (Taberno, Almería)</td>\n",
       "      <td>http://antoniasantaolallataberno.blogspot.com</td>\n",
       "      <td>Activa</td>\n",
       "      <td>Semestral</td>\n",
       "      <td>Pequeno</td>\n",
       "      <td>Educación / Centros docentes / Almería</td>\n",
       "      <td>Educación</td>\n",
       "    </tr>\n",
       "    <tr>\n",
       "      <th>17</th>\n",
       "      <td>CEIP Antonio Machado (Espera, Cádiz)</td>\n",
       "      <td>http://antoniomachadoespera.blogspot.com</td>\n",
       "      <td>Activa</td>\n",
       "      <td>Semestral</td>\n",
       "      <td>Pequeno</td>\n",
       "      <td>Educación / Centros docentes / Cádiz</td>\n",
       "      <td>Educación</td>\n",
       "    </tr>\n",
       "    <tr>\n",
       "      <th>18</th>\n",
       "      <td>Molino aceitero “La Molina” (Málaga)</td>\n",
       "      <td>http://anvioro.es</td>\n",
       "      <td>Activa</td>\n",
       "      <td>Anual</td>\n",
       "      <td>Mediano</td>\n",
       "      <td>Aceite de oliva / Almazaras / Málaga</td>\n",
       "      <td>Alimentaria</td>\n",
       "    </tr>\n",
       "    <tr>\n",
       "      <th>19</th>\n",
       "      <td>S.C.A. Sagrado Corazón de Jesús (Las Casillas,...</td>\n",
       "      <td>http://aovelascasillas.com</td>\n",
       "      <td>Activa</td>\n",
       "      <td>Anual</td>\n",
       "      <td>Mediano</td>\n",
       "      <td>Aceite de oliva / Almazara / Cooperativas / Jaén</td>\n",
       "      <td>Alimentaria</td>\n",
       "    </tr>\n",
       "  </tbody>\n",
       "</table>\n",
       "</div>"
      ],
      "text/plain": [
       "                                               Título  \\\n",
       "0   Ocho huellas (Los Palacios y Villafranca, Sevi...   \n",
       "1   Asociación Andaluza de Medicina y Seguridad en...   \n",
       "2               Loaimes, Los (Cogollos Vega, Granada)   \n",
       "3   Asociación de Productores y Transformadores de...   \n",
       "4   Aceites de Sierra de Yeguas (Sierra de Yeguas,...   \n",
       "5                     Aceites Torres Patiño (Córdoba)   \n",
       "6                                Actualidad Almanzora   \n",
       "7         Agrupación de Cofradías de Lucena (Córdoba)   \n",
       "8                                Aguilar noticias.com   \n",
       "9                     Al-Alba Teatro (Osuna, Sevilla)   \n",
       "10              Ciudadanos - Almería - (Cs - Almería)   \n",
       "11  CEIP Álvarez Sotomayor (Cuevas de Almanzora, A...   \n",
       "12                  CEIP Al-Yussana (Lucena, Córdoba)   \n",
       "13  Sociedad de Amigos del Real Jardín Botánico de...   \n",
       "14        Asociación Amigos del Lobo de Sierra Morena   \n",
       "15  Asociación Amigos del Teatro Ciudad de Marbell...   \n",
       "16        CEIP Antonia Santaolalla (Taberno, Almería)   \n",
       "17               CEIP Antonio Machado (Espera, Cádiz)   \n",
       "18               Molino aceitero “La Molina” (Málaga)   \n",
       "19  S.C.A. Sagrado Corazón de Jesús (Las Casillas,...   \n",
       "\n",
       "                                              Semilla    Estado Frecuencia  \\\n",
       "0                                 http://8huellas.com  Inactiva      Anual   \n",
       "1                                     http://aamst.es    Activa  Semestral   \n",
       "2                         http://aceitedecogollos.com    Activa      Anual   \n",
       "3                       http://aceitesdelponiente.com    Activa      Anual   \n",
       "4                        http://aceitesierrayeguas.es    Activa      Anual   \n",
       "5                      http://aceitestorrespatino.com    Activa      Anual   \n",
       "6             http://actualidadalmanzora.blogspot.com    Activa    Semanal   \n",
       "7   http://agrupaciondecofradiasdelucena.blogspot.com    Activa      Anual   \n",
       "8                          http://aguilarnoticias.com    Activa    Semanal   \n",
       "9                             http://alalbateatro.com    Activa  Semestral   \n",
       "10                   http://almeria.ciudadanos-cs.org    Activa  Semestral   \n",
       "11               http://alvarezsotomayor.blogspot.com    Activa  Semestral   \n",
       "12             http://al-yussanabilingue.blogspot.com    Activa  Semestral   \n",
       "13                    http://amigosbotanicocordoba.es    Activa      Anual   \n",
       "14    http://amigosdellobodesierramorena.blogspot.com    Activa  Semestral   \n",
       "15                  http://amigosdelteatromarbella.es    Activa  Semestral   \n",
       "16      http://antoniasantaolallataberno.blogspot.com    Activa  Semestral   \n",
       "17           http://antoniomachadoespera.blogspot.com    Activa  Semestral   \n",
       "18                                  http://anvioro.es    Activa      Anual   \n",
       "19                         http://aovelascasillas.com    Activa      Anual   \n",
       "\n",
       "     Tamaño                                     Palabras_clave      Materia  \n",
       "0   Mediano       Cerveza / Industria de las bebidas / Sevilla      Bebidas  \n",
       "1   Pequeno    Medicina del trabajo / Asociaciones / Andalucía     Medicina  \n",
       "2   Mediano  Aceite de oliva / Almazaras / Cooperativas / G...  Alimentaria  \n",
       "3   Mediano  Aceite de oliva / Almazaras / Granada / Asocia...  Alimentaria  \n",
       "4   Mediano  Aceite de oliva / Almazaras / Cooperativas / M...  Alimentaria  \n",
       "5   Mediano              Aceite de oliva / Almazaras / Córdoba  Alimentaria  \n",
       "6   Pequeno  Medios de comunicación social / Periódicos ele...       Prensa  \n",
       "7   Mediano  Religión / Semana Santa / Cofradías / Entidade...     Religión  \n",
       "8   Pequeno  Medios de comunicación social / Periódicos ele...       Prensa  \n",
       "9   Pequeno             Teatro / Compañías teatrales / Sevilla         Arte  \n",
       "10  Pequeno  Política / Instituciones políticas / Partidos ...     Política  \n",
       "11  Pequeno             Educación / Centros docentes / Almería    Educación  \n",
       "12  Pequeno             Educación / Centros docentes / Córdoba    Educación  \n",
       "13  Mediano  Plantas / Jardines botánicos / Asociaciones / ...     Botánica  \n",
       "14  Pequeno          Animales / Lobos / Asociaciones / Córdoba     Zoología  \n",
       "15  Pequeno                     Teatro / Asociaciones / Málaga         Arte  \n",
       "16  Pequeno             Educación / Centros docentes / Almería    Educación  \n",
       "17  Pequeno               Educación / Centros docentes / Cádiz    Educación  \n",
       "18  Mediano               Aceite de oliva / Almazaras / Málaga  Alimentaria  \n",
       "19  Mediano   Aceite de oliva / Almazara / Cooperativas / Jaén  Alimentaria  "
      ]
     },
     "execution_count": 53,
     "metadata": {},
     "output_type": "execute_result"
    }
   ],
   "source": [
    "df.head(20)"
   ]
  },
  {
   "cell_type": "code",
   "execution_count": 54,
   "metadata": {},
   "outputs": [
    {
     "data": {
      "text/plain": [
       "Título            0\n",
       "Semilla           0\n",
       "Estado            0\n",
       "Frecuencia        0\n",
       "Tamaño            0\n",
       "Palabras_clave    1\n",
       "Materia           0\n",
       "dtype: int64"
      ]
     },
     "execution_count": 54,
     "metadata": {},
     "output_type": "execute_result"
    }
   ],
   "source": [
    "df.isnull().sum()"
   ]
  },
  {
   "cell_type": "code",
   "execution_count": 55,
   "metadata": {},
   "outputs": [
    {
     "data": {
      "text/plain": [
       "Título            False\n",
       "Semilla            True\n",
       "Estado             True\n",
       "Frecuencia         True\n",
       "Tamaño             True\n",
       "Palabras_clave    False\n",
       "Materia            True\n",
       "dtype: bool"
      ]
     },
     "execution_count": 55,
     "metadata": {},
     "output_type": "execute_result"
    }
   ],
   "source": [
    "df.count().duplicated()"
   ]
  },
  {
   "cell_type": "code",
   "execution_count": 56,
   "metadata": {},
   "outputs": [
    {
     "data": {
      "text/plain": [
       "Semilla\n",
       "http://8huellas.com                             1\n",
       "http://auladigitaleuropa.blogspot.com           1\n",
       "http://asprencor.com                            1\n",
       "http://aceitedecogollos.com                     1\n",
       "http://aceitesdelponiente.com                   1\n",
       "                                               ..\n",
       "https://www2.romeroesteo.es                     1\n",
       "https://wwwjruizgordoa.blogspot.com             1\n",
       "https://xn--ceipnuestraseoradegracia-dlc.com    1\n",
       "https://ybarra.es                               1\n",
       "https://zoo.cordoba.es                          1\n",
       "Name: count, Length: 3693, dtype: int64"
      ]
     },
     "execution_count": 56,
     "metadata": {},
     "output_type": "execute_result"
    }
   ],
   "source": [
    "df['Semilla'].value_counts().sort_values(ascending = False)"
   ]
  },
  {
   "cell_type": "markdown",
   "metadata": {},
   "source": []
  },
  {
   "cell_type": "code",
   "execution_count": 57,
   "metadata": {},
   "outputs": [],
   "source": [
    "mask = df['Título'].str.contains('Cádiz', na = False)"
   ]
  },
  {
   "cell_type": "code",
   "execution_count": 58,
   "metadata": {},
   "outputs": [],
   "source": [
    "df2 = df[mask]"
   ]
  },
  {
   "cell_type": "code",
   "execution_count": 59,
   "metadata": {},
   "outputs": [],
   "source": [
    "keywordcounts = df2['Palabras_clave'].value_counts()"
   ]
  },
  {
   "cell_type": "code",
   "execution_count": 60,
   "metadata": {},
   "outputs": [],
   "source": [
    "Content_counts = df2['Materia'].value_counts()"
   ]
  },
  {
   "cell_type": "code",
   "execution_count": 61,
   "metadata": {},
   "outputs": [],
   "source": [
    "Visitfrequency = df2['Frecuencia'].value_counts()"
   ]
  },
  {
   "cell_type": "code",
   "execution_count": 62,
   "metadata": {},
   "outputs": [],
   "source": [
    "Active_Sitesmask = df2['Estado'].str.contains('Activa', na = False)\n"
   ]
  },
  {
   "cell_type": "code",
   "execution_count": 68,
   "metadata": {},
   "outputs": [],
   "source": [
    "ActiveSites = df2[Active_Sitesmask]\n"
   ]
  },
  {
   "cell_type": "code",
   "execution_count": 64,
   "metadata": {},
   "outputs": [],
   "source": [
    "Passive_Sitemask = df2['Estado'].str.contains('Inactiva', na = False)"
   ]
  },
  {
   "cell_type": "code",
   "execution_count": 65,
   "metadata": {},
   "outputs": [],
   "source": [
    "PassiveSites = df2[Passive_Sitemask]"
   ]
  },
  {
   "cell_type": "code",
   "execution_count": 66,
   "metadata": {},
   "outputs": [
    {
     "data": {
      "text/plain": [
       "Palabras_clave                                                               Materia  \n",
       "Cerveza / Industria de las bebidas / Cádiz                                   Bebidas      1\n",
       "Educación / Centros docentes / Cádiz                                         Educación    3\n",
       "Medios de comunicación social / Periódicos electrónicos / Cádiz / Andalucía  Prensa       1\n",
       "Religión / Semana Santa / Cofradías / Entidades religiosas / Cádiz           Religión     1\n",
       "Teatros / Instituciones culturales / Granada                                 Arte         1\n",
       "Universidades / Andalucía                                                    Educación    1\n",
       "Vinos / Brandy / Bodega / /Industria de las bebidas / Cádiz                  Bebidas      1\n",
       "Name: count, dtype: int64"
      ]
     },
     "execution_count": 66,
     "metadata": {},
     "output_type": "execute_result"
    }
   ],
   "source": [
    "PassiveSites.value_counts().groupby(['Palabras_clave','Materia']).size()"
   ]
  },
  {
   "cell_type": "code",
   "execution_count": 69,
   "metadata": {},
   "outputs": [],
   "source": [
    "ActiveSites.to_csv('Activesitesclean', sep=',', index=False, encoding='utf-8')"
   ]
  },
  {
   "cell_type": "code",
   "execution_count": 70,
   "metadata": {},
   "outputs": [],
   "source": [
    "PassiveSites.to_csv('PassiveSitessitesclean', sep=',', index=False, encoding='utf-8')"
   ]
  },
  {
   "cell_type": "code",
   "execution_count": 71,
   "metadata": {},
   "outputs": [],
   "source": [
    "df2.to_csv('Cadiz_Clean', sep=',', index=False, encoding='utf-8')"
   ]
  }
 ],
 "metadata": {
  "kernelspec": {
   "display_name": "base",
   "language": "python",
   "name": "python3"
  },
  "language_info": {
   "codemirror_mode": {
    "name": "ipython",
    "version": 3
   },
   "file_extension": ".py",
   "mimetype": "text/x-python",
   "name": "python",
   "nbconvert_exporter": "python",
   "pygments_lexer": "ipython3",
   "version": "3.11.5"
  }
 },
 "nbformat": 4,
 "nbformat_minor": 2
}
